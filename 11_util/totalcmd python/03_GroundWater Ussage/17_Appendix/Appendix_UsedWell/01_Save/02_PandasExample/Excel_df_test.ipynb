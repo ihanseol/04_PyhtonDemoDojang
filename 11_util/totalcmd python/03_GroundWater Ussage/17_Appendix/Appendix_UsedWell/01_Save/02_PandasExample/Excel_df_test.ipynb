{
 "cells": [
  {
   "cell_type": "code",
   "execution_count": null,
   "id": "initial_id",
   "metadata": {
    "collapsed": true
   },
   "outputs": [],
   "source": [
    ""
   ]
  },
  {
   "metadata": {
    "ExecuteTime": {
     "end_time": "2025-05-15T15:24:44.445932Z",
     "start_time": "2025-05-15T15:24:44.381263Z"
    }
   },
   "cell_type": "code",
   "source": [
    "import time\n",
    "import os\n",
    "import pandas as pd\n",
    "from pyhwpx import Hwp\n",
    "import shutil\n",
    "\n",
    "XL_INPUT = \"ss_out.xlsx\"\n",
    "XL_BASE = \"d:\\\\05_Send\"\n",
    "\n",
    "\n",
    "\n",
    "df = pd.read_excel(f\"{XL_BASE}\\\\{XL_INPUT}\")\n",
    "length = len(df)\n",
    "\n",
    "qsum = df['q'].sum()\n",
    "q_sum_for_inout_O = df.loc[df['inout'] == \"O\", 'q'].sum()\n",
    "q_sum_for_inout_X = df.loc[df['inout'] == \"X\", 'q'].sum()\n",
    "\n",
    "qO_count = len(df.loc[df['inout'] == \"O\", 'q'])\n",
    "qX_count = len(df.loc[df['inout'] == \"X\", 'q'])\n",
    "#for i in range(length):\n",
    "#    df_excel.iloc[i]\n",
    "\n",
    "print(df.iloc[1])\n",
    "print('-'*30)\n",
    "print(df.iloc[1]['gong'])\n",
    "print('-'*30)\n",
    "print(f\"qsum: {qsum}\")\n",
    "print(f\"q_sum_for_inout_O: {q_sum_for_inout_O}\")\n",
    "print(f\"q_sum_for_inout_X: {q_sum_for_inout_X}\")\n",
    "print(f\"qO_count: {qO_count}\")\n",
    "print(f\"qX_count: {qX_count}\")\n",
    "\n",
    "\n"
   ],
   "id": "89a147b46db560c4",
   "outputs": [
    {
     "name": "stdout",
     "output_type": "stream",
     "text": [
      "gong                   S-2\n",
      "address          합곡리 267-2\n",
      "simdo                   20\n",
      "well_diameter           50\n",
      "hp                     0.5\n",
      "q                     0.68\n",
      "purpose                가정용\n",
      "inout                    O\n",
      "Name: 1, dtype: object\n",
      "------------------------------\n",
      "S-2\n",
      "------------------------------\n",
      "qsum: 22.44\n",
      "q_sum_for_inout_O: 18.36\n",
      "q_sum_for_inout_X: 4.08\n",
      "qO_count: 27\n",
      "qX_count: 6\n"
     ]
    }
   ],
   "execution_count": 17
  },
  {
   "metadata": {
    "ExecuteTime": {
     "end_time": "2025-05-15T13:20:56.340401Z",
     "start_time": "2025-05-15T13:20:56.333150Z"
    }
   },
   "cell_type": "code",
   "source": [
    "# Define column width for proper alignment\n",
    "format_string = \"{:<6} {:<15} {:<5} {:<5} {:<5} {:<5} {:<7} {:<5}\"\n",
    "\n",
    "# Print header\n",
    "print(format_string.format(\"gong\", \"address\", \"simdo\", \"well\", \"hp\", \"q\", \"purpose\", \"inout\"))\n",
    "print(\"-\" * 70)  # Separator line\n",
    "\n",
    "# Print each row with aligned columns\n",
    "for i in range(length):\n",
    "    print(format_string.format(\n",
    "        df.iloc[i]['gong'],\n",
    "        df.iloc[i]['address'],\n",
    "        df.iloc[i]['simdo'],\n",
    "        df.iloc[i]['well_diameter'],\n",
    "        df.iloc[i]['hp'],\n",
    "        df.iloc[i]['q'],\n",
    "        df.iloc[i]['purpose'],\n",
    "        df.iloc[i]['inout']\n",
    "    ))"
   ],
   "id": "7a91a8af7a9d72cb",
   "outputs": [
    {
     "name": "stdout",
     "output_type": "stream",
     "text": [
      "gong   address         simdo well  hp    q     purpose inout\n",
      "----------------------------------------------------------------------\n",
      "S-1    합곡리 188         20    50    0.3   0.68  가정용     O    \n",
      "S-2    합곡리 267-2       20    50    0.5   0.68  가정용     O    \n",
      "S-3    합곡리 192-1       60    150   1.0   0.68  가정용     O    \n",
      "S-4    합곡리 57          20    50    0.3   0.68  가정용     O    \n",
      "S-5    합곡리 57-1        20    50    0.3   0.68  가정용     O    \n",
      "S-6    합곡리 261-8       20    50    0.3   0.68  가정용     O    \n",
      "S-7    합곡리 280-5       30    50    0.5   0.68  가정용     O    \n",
      "S-8    합곡리 282-2       15    50    0.5   0.68  가정용     O    \n",
      "S-9    합곡리 288-3       20    50    0.5   0.68  가정용     O    \n",
      "S-10   합곡리 281-3       20    50    0.5   0.68  가정용     O    \n",
      "S-11   합곡리 261-3       20    50    0.5   0.68  가정용     O    \n",
      "S-12   합곡리 282-12      20    50    0.3   0.68  가정용     O    \n",
      "S-13   합곡리 286-1       20    50    0.3   0.68  가정용     O    \n",
      "S-14   합곡리 301         15    50    0.3   0.68  가정용     O    \n",
      "S-15   합곡리 295         20    50    0.3   0.68  가정용     O    \n",
      "S-16   합곡리 294         16    50    0.3   0.68  가정용     O    \n",
      "S-17   합곡리 311-5       20    50    0.3   0.68  가정용     O    \n",
      "S-18   합곡리 311-4       20    50    0.3   0.68  가정용     X    \n",
      "S-19   합곡리 306-14      20    50    0.3   0.68  가정용     X    \n",
      "S-20   합곡리 298-3       10    50    0.3   0.68  가정용     X    \n",
      "S-21   합곡리 298-2       30    50    0.5   0.68  가정용     X    \n",
      "S-22   합곡리 298-1       20    50    0.5   0.68  가정용     X    \n",
      "S-23   합곡리 308         15    50    0.3   0.68  가정용     O    \n",
      "S-24   합곡리 46          20    50    0.5   0.68  가정용     X    \n",
      "S-25   합곡리 50          20    50    0.3   0.68  가정용     O    \n",
      "S-26   합곡리 40-2        20    50    0.3   0.68  가정용     O    \n",
      "S-27   합곡리 331         20    50    0.3   0.68  가정용     O    \n",
      "S-28   합곡리 335         20    50    0.3   0.68  가정용     O    \n",
      "S-29   합곡리 339-1       20    50    0.3   0.68  가정용     O    \n",
      "S-30   합곡리 341         20    50    0.5   0.68  가정용     O    \n",
      "S-31   합곡리 340-2       20    50    0.3   0.68  가정용     O    \n",
      "S-32   합곡리 906-3       25    50    0.5   0.68  가정용     O    \n",
      "S-33   합곡리 798-4       30    50    0.5   0.68  가정용     O    \n"
     ]
    }
   ],
   "execution_count": 16
  }
 ],
 "metadata": {
  "kernelspec": {
   "display_name": "Python 3",
   "language": "python",
   "name": "python3"
  },
  "language_info": {
   "codemirror_mode": {
    "name": "ipython",
    "version": 2
   },
   "file_extension": ".py",
   "mimetype": "text/x-python",
   "name": "python",
   "nbconvert_exporter": "python",
   "pygments_lexer": "ipython2",
   "version": "2.7.6"
  }
 },
 "nbformat": 4,
 "nbformat_minor": 5
}
