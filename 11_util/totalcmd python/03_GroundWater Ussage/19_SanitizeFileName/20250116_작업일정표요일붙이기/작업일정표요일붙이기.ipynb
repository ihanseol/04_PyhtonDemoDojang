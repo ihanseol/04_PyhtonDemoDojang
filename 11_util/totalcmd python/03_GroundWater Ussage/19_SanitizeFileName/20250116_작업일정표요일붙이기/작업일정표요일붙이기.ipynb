{
 "cells": [
  {
   "metadata": {
    "ExecuteTime": {
     "end_time": "2025-01-16T14:51:48.426384Z",
     "start_time": "2025-01-16T14:51:48.420042Z"
    }
   },
   "cell_type": "code",
   "source": "import datetime as dt",
   "id": "3fc242323d907305",
   "outputs": [],
   "execution_count": 14
  },
  {
   "metadata": {
    "ExecuteTime": {
     "end_time": "2025-01-16T14:52:20.237603Z",
     "start_time": "2025-01-16T14:52:20.230041Z"
    }
   },
   "cell_type": "code",
   "source": [
    "# datetime.date 객체 만들기\n",
    "year = 2025\n",
    "month = 5  # 1~12\n",
    "day = 12  # 1~31\n",
    "\n",
    "d = dt.date(year, month, day)\n",
    "d"
   ],
   "id": "f5642d62d0145d43",
   "outputs": [
    {
     "data": {
      "text/plain": [
       "datetime.date(2025, 5, 12)"
      ]
     },
     "execution_count": 15,
     "metadata": {},
     "output_type": "execute_result"
    }
   ],
   "execution_count": 15
  },
  {
   "metadata": {
    "ExecuteTime": {
     "end_time": "2025-01-16T14:53:45.722200Z",
     "start_time": "2025-01-16T14:53:45.716398Z"
    }
   },
   "cell_type": "code",
   "source": [
    "# 요일 인덱스 찾기\n",
    "(d+dt.timedelta(days=6)).weekday()"
   ],
   "id": "3d8ed0dceedb1a7a",
   "outputs": [
    {
     "data": {
      "text/plain": [
       "6"
      ]
     },
     "execution_count": 19,
     "metadata": {},
     "output_type": "execute_result"
    }
   ],
   "execution_count": 19
  },
  {
   "metadata": {
    "ExecuteTime": {
     "end_time": "2025-01-16T14:54:29.307542Z",
     "start_time": "2025-01-16T14:54:29.301244Z"
    }
   },
   "cell_type": "code",
   "source": [
    "# 0을 입력하면 \"월\"이 나오고,\n",
    "# 6을 입력하면 \"일\"이 나오는 가장\n",
    "# 간단한 방법?\n",
    "\n",
    "\"월화수목금토일\"[6]"
   ],
   "id": "a5cf052168613719",
   "outputs": [
    {
     "data": {
      "text/plain": [
       "'일'"
      ]
     },
     "execution_count": 22,
     "metadata": {},
     "output_type": "execute_result"
    }
   ],
   "execution_count": 22
  },
  {
   "metadata": {
    "ExecuteTime": {
     "end_time": "2025-01-16T14:57:56.030775Z",
     "start_time": "2025-01-16T14:57:56.023193Z"
    }
   },
   "cell_type": "code",
   "source": [
    "# date 객체를 문자열로 바꾸기\n",
    "f\"{d:%#m.%#d.}\""
   ],
   "id": "f6fe45b709f45883",
   "outputs": [
    {
     "data": {
      "text/plain": [
       "'5.12.'"
      ]
     },
     "execution_count": 28,
     "metadata": {},
     "output_type": "execute_result"
    }
   ],
   "execution_count": 28
  },
  {
   "metadata": {
    "ExecuteTime": {
     "end_time": "2025-01-16T14:57:45.547270Z",
     "start_time": "2025-01-16T14:57:45.540727Z"
    }
   },
   "cell_type": "code",
   "source": [
    "# 최종 문자열 형태는\n",
    "f\"{d:%#m.%#d.}({\"월화수목금토일\"[d.weekday()]})\""
   ],
   "id": "77b4017a911108a",
   "outputs": [
    {
     "data": {
      "text/plain": [
       "'5.12.(월)'"
      ]
     },
     "execution_count": 27,
     "metadata": {},
     "output_type": "execute_result"
    }
   ],
   "execution_count": 27
  },
  {
   "metadata": {
    "ExecuteTime": {
     "end_time": "2025-01-16T15:14:07.635737Z",
     "start_time": "2025-01-16T15:12:51.648549Z"
    }
   },
   "cell_type": "code",
   "source": [
    "# 최종 코드\n",
    "import datetime as dt\n",
    "from pyhwpx import Hwp\n",
    "\n",
    "def 날짜에요일포함(d:dt.date) -> str:\n",
    "    return f\"{d:%#m.%#d.}({\"월화수목금토일\"[d.weekday()]})\"\n",
    "\n",
    "hwp = Hwp()\n",
    "hwp.open(\"작업일정표.hwp\")\n",
    "for month in range(1, 13):\n",
    "    for day in range(1, 32):\n",
    "        while True:\n",
    "            if hwp.find(f\"{month}.{day}.\", direction=\"AllDoc\", WholeWordOnly=True):\n",
    "                d = dt.date(2025, month, day)\n",
    "                hwp.insert_text(날짜에요일포함(d))\n",
    "            else:\n",
    "                break"
   ],
   "id": "8e48ecdb7a2a1504",
   "outputs": [],
   "execution_count": 40
  },
  {
   "metadata": {},
   "cell_type": "code",
   "outputs": [],
   "execution_count": null,
   "source": [
    "# 빠른 코드(정규식)... 읽지 마시길\n",
    "import re\n",
    "\n",
    "hwp.SelectAll()\n",
    "hwp.SetTextFile(re.sub(r\"([1-9]|1[0-2])\\.(0?[1-9]|[1-2][0-9]|3[0-1])\\.\", lambda match: f\"{dt.datetime(2025, *[int(i) for i in match.groups()]):%#m.%#d.}({'월화수목금토일'[dt.datetime(2025, *[int(i) for i in match.groups()]).weekday()]})\", hwp.GetTextFile(format=\"HWPML2X\")), format=\"HWPML2X\", option=\"insertfile\")"
   ],
   "id": "da7048a296654b45"
  }
 ],
 "metadata": {
  "kernelspec": {
   "display_name": "Python 3",
   "language": "python",
   "name": "python3"
  },
  "language_info": {
   "codemirror_mode": {
    "name": "ipython",
    "version": 2
   },
   "file_extension": ".py",
   "mimetype": "text/x-python",
   "name": "python",
   "nbconvert_exporter": "python",
   "pygments_lexer": "ipython2",
   "version": "2.7.6"
  }
 },
 "nbformat": 4,
 "nbformat_minor": 5
}
