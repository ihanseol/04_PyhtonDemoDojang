{
 "cells": [
  {
   "cell_type": "code",
   "execution_count": 5,
   "id": "80436da1",
   "metadata": {},
   "outputs": [],
   "source": [
    "import os\n",
    "\n",
    "def get_filename():\n",
    "    download_folder = os.path.expanduser(\"~\\\\Downloads\\\\\")\n",
    "    files = os.listdir(download_folder)\n",
    "    files = [file for file in files if file.endswith('.csv')]\n",
    "\n",
    "    return files\n"
   ]
  },
  {
   "cell_type": "code",
   "execution_count": 7,
   "id": "47ce0dbb",
   "metadata": {},
   "outputs": [
    {
     "data": {
      "text/plain": [
       "0"
      ]
     },
     "execution_count": 7,
     "metadata": {},
     "output_type": "execute_result"
    }
   ],
   "source": [
    "len(get_filename())"
   ]
  },
  {
   "cell_type": "code",
   "execution_count": 10,
   "id": "bdb30f2c",
   "metadata": {},
   "outputs": [
    {
     "name": "stdout",
     "output_type": "stream",
     "text": [
      "ok\n"
     ]
    }
   ],
   "source": [
    "aafile = r\"c:\\Users\\minhwasoo\\Downloads\\금산_2023-10-30.csv\"\n",
    "if \"금산\" in aafile:\n",
    "    print('ok')"
   ]
  },
  {
   "cell_type": "code",
   "execution_count": null,
   "id": "158da54f",
   "metadata": {},
   "outputs": [],
   "source": []
  }
 ],
 "metadata": {
  "kernelspec": {
   "display_name": "Python 3 (ipykernel)",
   "language": "python",
   "name": "python3"
  },
  "language_info": {
   "codemirror_mode": {
    "name": "ipython",
    "version": 3
   },
   "file_extension": ".py",
   "mimetype": "text/x-python",
   "name": "python",
   "nbconvert_exporter": "python",
   "pygments_lexer": "ipython3",
   "version": "3.11.5"
  }
 },
 "nbformat": 4,
 "nbformat_minor": 5
}
